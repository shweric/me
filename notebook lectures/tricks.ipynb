{
 "cells": [
  {
   "cell_type": "markdown",
   "metadata": {
    "slideshow": {
     "slide_type": "slide"
    }
   },
   "source": [
    "# Tricks"
   ]
  },
  {
   "cell_type": "code",
   "execution_count": 4,
   "metadata": {
    "collapsed": false,
    "slideshow": {
     "slide_type": "slide"
    }
   },
   "outputs": [],
   "source": [
    "pets = [\"dog\", \"goat\", \"pig\", \"sheep\", \"cattle\", \"zebu\", \"cat\", \"chicken\",\n",
    "        \"guinea pig\", \"donkey\", \"duck\", \"water buffalo\",\n",
    "        \"western honey bee\", \"dromedary camel\", \"horse\", \"silkmoth\",\n",
    "        \"pigeon\", \"goose\", \"yak\", \"bactrian camel\", \"llama\", \"alpaca\",\n",
    "        \"guineafowl\", \"ferret\", \"muscovy duck\", \"barbary dove\",\n",
    "        \"bali cattle\", \"gayal\", \"turkey\", \"goldfish\", \"rabbit\", \"koi\",\n",
    "        \"canary\", \"society finch\", \"fancy mouse\", \"siamese fighting fish\",\n",
    "        \"fancy rat and lab rat\", \"mink\", \"red fox\", \"hedgehog\", \"guppy\"]\n",
    "\n",
    "numbers = range(30)\n",
    "\n",
    "message_dict = {\"name\": \"Ben\",\n",
    "                \"Year\": 2017,\n",
    "                \"Location\": \"Sydney\",\n",
    "                \"Greeting\": \"Yo whatup now and give a brother room\",\n",
    "                \"Fact\": \"It would take 1,200,000 mosquitoes, each \" +\n",
    "                        \"sucking once, to completely drain the \" +\n",
    "                        \"average human of blood\",\n",
    "                \"Alphabet Inc Class A\": \"847.80USD\",\n",
    "                \"fruit\": [\"apple\", \"apricot\", \"avocado\", \"abiu\"]}"
   ]
  },
  {
   "cell_type": "markdown",
   "metadata": {
    "slideshow": {
     "slide_type": "slide"
    }
   },
   "source": [
    "# Slicing"
   ]
  },
  {
   "cell_type": "code",
   "execution_count": 6,
   "metadata": {
    "collapsed": false
   },
   "outputs": [
    {
     "name": "stdout",
     "output_type": "stream",
     "text": [
      "[:10] ['dog', 'goat', 'pig', 'sheep', 'cattle', 'zebu', 'cat', 'chicken', 'guinea pig', 'donkey']\n",
      "\n",
      "[35:] ['siamese fighting fish', 'fancy rat and lab rat', 'mink', 'red fox', 'hedgehog', 'guppy']\n",
      "\n",
      "[4:20] ['cattle', 'zebu', 'cat', 'chicken', 'guinea pig', 'donkey', 'duck', 'water buffalo', 'western honey bee', 'dromedary camel', 'horse', 'silkmoth', 'pigeon', 'goose', 'yak', 'bactrian camel']\n",
      "\n",
      "[:-35] ['dog', 'goat', 'pig', 'sheep', 'cattle', 'zebu']\n",
      "\n",
      "[::-1] ['guppy', 'hedgehog', 'red fox', 'mink', 'fancy rat and lab rat', 'siamese fighting fish', 'fancy mouse', 'society finch', 'canary', 'koi', 'rabbit', 'goldfish', 'turkey', 'gayal', 'bali cattle', 'barbary dove', 'muscovy duck', 'ferret', 'guineafowl', 'alpaca', 'llama', 'bactrian camel', 'yak', 'goose', 'pigeon', 'silkmoth', 'horse', 'dromedary camel', 'western honey bee', 'water buffalo', 'duck', 'donkey', 'guinea pig', 'chicken', 'cat', 'zebu', 'cattle', 'sheep', 'pig', 'goat', 'dog']\n"
     ]
    },
    {
     "data": {
      "text/plain": [
       "['cattle', 'zebu', 'cat', 'chicken', 'guinea pig', 'donkey']"
      ]
     },
     "execution_count": 6,
     "metadata": {},
     "output_type": "execute_result"
    }
   ],
   "source": [
    "# pets = range(40)\n",
    "print \"[:10]\", pets[:10]\n",
    "print \"\\n[35:]\", pets[35:]\n",
    "print \"\\n[4:20]\", pets[4:20]\n",
    "print \"\\n[:-35]\", pets[:-35]\n",
    "print \"\\n[::-1]\", pets[::-1]\n",
    "some_pets = pets[4:10]\n",
    "some_pets"
   ]
  },
  {
   "cell_type": "markdown",
   "metadata": {
    "slideshow": {
     "slide_type": "slide"
    }
   },
   "source": [
    "# Append vs Extend"
   ]
  },
  {
   "cell_type": "code",
   "execution_count": 7,
   "metadata": {
    "collapsed": false,
    "slideshow": {
     "slide_type": "fragment"
    }
   },
   "outputs": [
    {
     "name": "stdout",
     "output_type": "stream",
     "text": [
      "[[0, 1, 2, 3, 4, 5, 6, 7, 8, 9, 10, 11, 12, 13, 14, 15, 16, 17, 18, 19, 20, 21, 22, 23, 24, 25, 26, 27, 28, 29], ['cattle', 'zebu', 'cat', 'chicken', 'guinea pig', 'donkey']]\n"
     ]
    }
   ],
   "source": [
    "new_list = []\n",
    "new_list.append(numbers)\n",
    "new_list.append(some_pets)\n",
    "print new_list"
   ]
  },
  {
   "cell_type": "code",
   "execution_count": 8,
   "metadata": {
    "collapsed": false,
    "slideshow": {
     "slide_type": "fragment"
    }
   },
   "outputs": [
    {
     "name": "stdout",
     "output_type": "stream",
     "text": [
      "[0, 1, 2, 3, 4, 5, 6, 7, 8, 9, 10, 11, 12, 13, 14, 15, 16, 17, 18, 19, 20, 21, 22, 23, 24, 25, 26, 27, 28, 29, 'cattle', 'zebu', 'cat', 'chicken', 'guinea pig', 'donkey']\n"
     ]
    }
   ],
   "source": [
    "another_new_list = []\n",
    "another_new_list.extend(numbers)\n",
    "another_new_list.extend(some_pets)\n",
    "print another_new_list"
   ]
  },
  {
   "cell_type": "markdown",
   "metadata": {
    "slideshow": {
     "slide_type": "slide"
    }
   },
   "source": [
    "# Truthy values"
   ]
  },
  {
   "cell_type": "code",
   "execution_count": 9,
   "metadata": {
    "collapsed": true,
    "slideshow": {
     "slide_type": "fragment"
    }
   },
   "outputs": [],
   "source": [
    "thing = False\n",
    "if thing:\n",
    "    print \"You'll never see me\""
   ]
  },
  {
   "cell_type": "code",
   "execution_count": 10,
   "metadata": {
    "collapsed": false,
    "slideshow": {
     "slide_type": "fragment"
    }
   },
   "outputs": [
    {
     "name": "stdout",
     "output_type": "stream",
     "text": [
      "Woah, look at me!\n"
     ]
    }
   ],
   "source": [
    "thing = \"hi!\"\n",
    "if thing:\n",
    "    print \"Woah, look at me!\" "
   ]
  },
  {
   "cell_type": "code",
   "execution_count": 11,
   "metadata": {
    "collapsed": false,
    "slideshow": {
     "slide_type": "fragment"
    }
   },
   "outputs": [],
   "source": [
    "thing = None\n",
    "if thing:\n",
    "    print \"I'm a sneaky snake\""
   ]
  },
  {
   "cell_type": "markdown",
   "metadata": {
    "slideshow": {
     "slide_type": "slide"
    }
   },
   "source": [
    "# List comprehensions"
   ]
  },
  {
   "cell_type": "code",
   "execution_count": 12,
   "metadata": {
    "collapsed": false,
    "slideshow": {
     "slide_type": "fragment"
    }
   },
   "outputs": [
    {
     "name": "stdout",
     "output_type": "stream",
     "text": [
      "[3, 4, 3, 5, 6, 4, 3, 7, 10, 6, 4, 13, 17, 15, 5, 8, 6, 5, 3, 14, 5, 6, 10, 6, 12, 12, 11, 5, 6, 8, 6, 3, 6, 13, 11, 21, 21, 4, 7, 8, 5]\n"
     ]
    }
   ],
   "source": [
    "pet_name_lengths = []\n",
    "for p in pets:\n",
    "    pet_name_lengths.append(len(p))\n",
    "    \n",
    "print pet_name_lengths"
   ]
  },
  {
   "cell_type": "code",
   "execution_count": 13,
   "metadata": {
    "collapsed": false,
    "slideshow": {
     "slide_type": "fragment"
    }
   },
   "outputs": [
    {
     "name": "stdout",
     "output_type": "stream",
     "text": [
      "[3, 4, 3, 5, 6, 4, 3, 7, 10, 6, 4, 13, 17, 15, 5, 8, 6, 5, 3, 14, 5, 6, 10, 6, 12, 12, 11, 5, 6, 8, 6, 3, 6, 13, 11, 21, 21, 4, 7, 8, 5]\n"
     ]
    }
   ],
   "source": [
    "pet_name_lengths = [len(p) for p in pets]\n",
    "print pet_name_lengths"
   ]
  },
  {
   "cell_type": "markdown",
   "metadata": {
    "slideshow": {
     "slide_type": "slide"
    }
   },
   "source": [
    "# λambdas "
   ]
  },
  {
   "cell_type": "code",
   "execution_count": 14,
   "metadata": {
    "collapsed": false,
    "slideshow": {
     "slide_type": "fragment"
    }
   },
   "outputs": [
    {
     "name": "stdout",
     "output_type": "stream",
     "text": [
      "[6, 8, 6, 10, 12, 8, 6, 14, 20, 12, 8, 26, 34, 30, 10, 16, 12, 10, 6, 28, 10, 12, 20, 12, 24, 24, 22, 10, 12, 16, 12, 6, 12, 26, 22, 42, 42, 8, 14, 16, 10]\n"
     ]
    }
   ],
   "source": [
    "def get_2x_len(my_string):\n",
    "    return len(my_string) * 2\n",
    "\n",
    "print map(get_2x_len, pets)"
   ]
  },
  {
   "cell_type": "code",
   "execution_count": 18,
   "metadata": {
    "collapsed": false,
    "slideshow": {
     "slide_type": "fragment"
    }
   },
   "outputs": [
    {
     "name": "stdout",
     "output_type": "stream",
     "text": [
      "['g', 't', 'g', 'p', 'e', 'u', 't', 'n', 'g', 'y', 'k', 'o', 'e', 'l', 'e', 'h', 'n', 'e', 'k', 'l', 'a', 'a', 'l', 't', 'k', 'e', 'e', 'l', 'y', 'h', 't', 'i', 'y', 'h', 'e', 'h', 't', 'k', 'x', 'g', 'y']\n"
     ]
    }
   ],
   "source": [
    "# print map(lambda x: len(x) * 2, pets)\n",
    "print map(lambda x: x[1], pets)"
   ]
  },
  {
   "cell_type": "code",
   "execution_count": 16,
   "metadata": {
    "collapsed": false,
    "slideshow": {
     "slide_type": "fragment"
    }
   },
   "outputs": [
    {
     "name": "stdout",
     "output_type": "stream",
     "text": [
      "[3, 4, 3, 5, 6, 4, 3, 7, 10, 6, 4, 13, 17, 15, 5, 8, 6, 5, 3, 14, 5, 6, 10, 6, 12, 12, 11, 5, 6, 8, 6, 3, 6, 13, 11, 21, 21, 4, 7, 8, 5]\n"
     ]
    }
   ],
   "source": [
    "print map(len, pets)"
   ]
  },
  {
   "cell_type": "markdown",
   "metadata": {
    "slideshow": {
     "slide_type": "slide"
    }
   },
   "source": [
    "# Built ins"
   ]
  },
  {
   "cell_type": "code",
   "execution_count": 27,
   "metadata": {
    "collapsed": false,
    "slideshow": {
     "slide_type": "-"
    }
   },
   "outputs": [],
   "source": [
    "from random import randint\n",
    "my_odd_list = [randint(0,100) for _ in range(1000)]"
   ]
  },
  {
   "cell_type": "code",
   "execution_count": 28,
   "metadata": {
    "collapsed": false,
    "slideshow": {
     "slide_type": "fragment"
    }
   },
   "outputs": [
    {
     "data": {
      "text/plain": [
       "100"
      ]
     },
     "execution_count": 28,
     "metadata": {},
     "output_type": "execute_result"
    }
   ],
   "source": [
    "max(my_odd_list)"
   ]
  },
  {
   "cell_type": "code",
   "execution_count": 29,
   "metadata": {
    "collapsed": false,
    "slideshow": {
     "slide_type": "fragment"
    }
   },
   "outputs": [
    {
     "data": {
      "text/plain": [
       "0"
      ]
     },
     "execution_count": 29,
     "metadata": {},
     "output_type": "execute_result"
    }
   ],
   "source": [
    "min(my_odd_list)"
   ]
  },
  {
   "cell_type": "code",
   "execution_count": 30,
   "metadata": {
    "collapsed": false,
    "slideshow": {
     "slide_type": "slide"
    }
   },
   "outputs": [
    {
     "data": {
      "text/plain": [
       "[(0, 'dog'),\n",
       " (1, 'goat'),\n",
       " (2, 'pig'),\n",
       " (3, 'sheep'),\n",
       " (4, 'cattle'),\n",
       " (5, 'zebu'),\n",
       " (6, 'cat'),\n",
       " (7, 'chicken'),\n",
       " (8, 'guinea pig'),\n",
       " (9, 'donkey'),\n",
       " (10, 'duck'),\n",
       " (11, 'water buffalo'),\n",
       " (12, 'western honey bee'),\n",
       " (13, 'dromedary camel'),\n",
       " (14, 'horse'),\n",
       " (15, 'silkmoth'),\n",
       " (16, 'pigeon'),\n",
       " (17, 'goose'),\n",
       " (18, 'yak'),\n",
       " (19, 'bactrian camel'),\n",
       " (20, 'llama'),\n",
       " (21, 'alpaca'),\n",
       " (22, 'guineafowl'),\n",
       " (23, 'ferret'),\n",
       " (24, 'muscovy duck'),\n",
       " (25, 'barbary dove'),\n",
       " (26, 'bali cattle'),\n",
       " (27, 'gayal'),\n",
       " (28, 'turkey'),\n",
       " (29, 'goldfish'),\n",
       " (30, 'rabbit'),\n",
       " (31, 'koi'),\n",
       " (32, 'canary'),\n",
       " (33, 'society finch'),\n",
       " (34, 'fancy mouse'),\n",
       " (35, 'siamese fighting fish'),\n",
       " (36, 'fancy rat and lab rat'),\n",
       " (37, 'mink'),\n",
       " (38, 'red fox'),\n",
       " (39, 'hedgehog'),\n",
       " (40, 'guppy')]"
      ]
     },
     "execution_count": 30,
     "metadata": {},
     "output_type": "execute_result"
    }
   ],
   "source": [
    "zip(range(len(pets)), pets)"
   ]
  },
  {
   "cell_type": "code",
   "execution_count": 32,
   "metadata": {
    "collapsed": false,
    "slideshow": {
     "slide_type": "slide"
    }
   },
   "outputs": [
    {
     "name": "stdout",
     "output_type": "stream",
     "text": [
      "(0, 'dog')\n",
      "(1, 'goat')\n",
      "(2, 'pig')\n",
      "(3, 'sheep')\n",
      "(4, 'cattle')\n",
      "(5, 'zebu')\n",
      "(6, 'cat')\n",
      "(7, 'chicken')\n",
      "(8, 'guinea pig')\n",
      "(9, 'donkey')\n",
      "(10, 'duck')\n",
      "(11, 'water buffalo')\n",
      "(12, 'western honey bee')\n",
      "(13, 'dromedary camel')\n",
      "(14, 'horse')\n",
      "(15, 'silkmoth')\n",
      "(16, 'pigeon')\n",
      "(17, 'goose')\n",
      "(18, 'yak')\n",
      "(19, 'bactrian camel')\n",
      "(20, 'llama')\n",
      "(21, 'alpaca')\n",
      "(22, 'guineafowl')\n",
      "(23, 'ferret')\n",
      "(24, 'muscovy duck')\n",
      "(25, 'barbary dove')\n",
      "(26, 'bali cattle')\n",
      "(27, 'gayal')\n",
      "(28, 'turkey')\n",
      "(29, 'goldfish')\n",
      "(30, 'rabbit')\n",
      "(31, 'koi')\n",
      "(32, 'canary')\n",
      "(33, 'society finch')\n",
      "(34, 'fancy mouse')\n",
      "(35, 'siamese fighting fish')\n",
      "(36, 'fancy rat and lab rat')\n",
      "(37, 'mink')\n",
      "(38, 'red fox')\n",
      "(39, 'hedgehog')\n",
      "(40, 'guppy')\n"
     ]
    }
   ],
   "source": [
    "for p in enumerate(pets):\n",
    "    print p"
   ]
  },
  {
   "cell_type": "markdown",
   "metadata": {
    "slideshow": {
     "slide_type": "slide"
    }
   },
   "source": [
    "# Generators"
   ]
  },
  {
   "cell_type": "code",
   "execution_count": 36,
   "metadata": {
    "collapsed": false,
    "slideshow": {
     "slide_type": "slide"
    }
   },
   "outputs": [
    {
     "data": {
      "text/plain": [
       "(0, 'dog')"
      ]
     },
     "execution_count": 36,
     "metadata": {},
     "output_type": "execute_result"
    }
   ],
   "source": [
    "a = enumerate(pets)\n",
    "a.next()"
   ]
  },
  {
   "cell_type": "code",
   "execution_count": 37,
   "metadata": {
    "collapsed": false,
    "slideshow": {
     "slide_type": "slide"
    }
   },
   "outputs": [
    {
     "name": "stdout",
     "output_type": "stream",
     "text": [
      "0\n",
      "3\n",
      "6\n"
     ]
    }
   ],
   "source": [
    "def a_generator():\n",
    "    counter = 0\n",
    "    while True:\n",
    "        yield counter\n",
    "        counter += 3\n",
    "        \n",
    "g = a_generator()\n",
    "\n",
    "print g.next()\n",
    "print g.next()\n",
    "print g.next()"
   ]
  },
  {
   "cell_type": "markdown",
   "metadata": {},
   "source": [
    "# Dictionary comprehensions"
   ]
  },
  {
   "cell_type": "code",
   "execution_count": 42,
   "metadata": {
    "collapsed": false
   },
   "outputs": [
    {
     "name": "stdout",
     "output_type": "stream",
     "text": [
      "{'sheep': 3, 'donkey': 9, 'guinea pig': 8, 'dog': 0, 'pig': 2, 'cattle': 4, 'zebu': 5, 'chicken': 7, 'cat': 6, 'goat': 1}\n",
      "Counter({15: 17, 1: 16, 88: 16, 56: 15, 48: 14, 67: 14, 73: 14, 78: 14, 85: 14, 4: 13, 9: 13, 10: 13, 22: 13, 26: 13, 57: 13, 68: 13, 89: 13, 95: 13, 0: 12, 14: 12, 40: 12, 50: 12, 60: 12, 64: 12, 79: 12, 81: 12, 90: 12, 7: 11, 16: 11, 19: 11, 33: 11, 36: 11, 39: 11, 42: 11, 45: 11, 54: 11, 59: 11, 65: 11, 84: 11, 87: 11, 91: 11, 93: 11, 96: 11, 24: 10, 29: 10, 44: 10, 46: 10, 51: 10, 52: 10, 63: 10, 66: 10, 69: 10, 71: 10, 74: 10, 80: 10, 86: 10, 92: 10, 3: 9, 8: 9, 11: 9, 13: 9, 21: 9, 25: 9, 27: 9, 30: 9, 38: 9, 61: 9, 75: 9, 76: 9, 83: 9, 98: 9, 99: 9, 20: 8, 28: 8, 31: 8, 34: 8, 41: 8, 43: 8, 53: 8, 77: 8, 100: 8, 23: 7, 32: 7, 37: 7, 49: 7, 55: 7, 58: 7, 82: 7, 94: 7, 2: 6, 5: 6, 35: 6, 70: 6, 72: 6, 97: 6, 12: 5, 17: 5, 47: 5, 62: 5, 6: 3, 18: 3})\n",
      "15\n"
     ]
    }
   ],
   "source": [
    "# all yours terry!\n",
    "L = range(10)\n",
    "d = {k:v for k, v in zip(pets, L)}\n",
    "print d\n",
    "import collections\n",
    "d = collections.defaultdict(list)\n",
    "d = collections.Counter()\n",
    "d = collections.Counter(my_odd_list)\n",
    "print d\n",
    "print max(d, key=lambda x: d[x])"
   ]
  }
 ],
 "metadata": {
  "celltoolbar": "Slideshow",
  "kernelspec": {
   "display_name": "Python 2",
   "language": "python",
   "name": "python2"
  },
  "language_info": {
   "codemirror_mode": {
    "name": "ipython",
    "version": 2
   },
   "file_extension": ".py",
   "mimetype": "text/x-python",
   "name": "python",
   "nbconvert_exporter": "python",
   "pygments_lexer": "ipython2",
   "version": "2.7.12"
  },
  "toc": {
   "colors": {
    "hover_highlight": "#DAA520",
    "navigate_num": "#000000",
    "navigate_text": "#333333",
    "running_highlight": "#FF0000",
    "selected_highlight": "#FFD700",
    "sidebar_border": "#EEEEEE",
    "wrapper_background": "#FFFFFF"
   },
   "moveMenuLeft": true,
   "nav_menu": {
    "height": "174px",
    "width": "252px"
   },
   "navigate_menu": true,
   "number_sections": true,
   "sideBar": true,
   "threshold": 4,
   "toc_cell": false,
   "toc_section_display": "block",
   "toc_window_display": false,
   "widenNotebook": false
  }
 },
 "nbformat": 4,
 "nbformat_minor": 1
}
